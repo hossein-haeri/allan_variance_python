{
 "cells": [
  {
   "cell_type": "code",
   "execution_count": 7,
   "metadata": {
    "scrolled": true
   },
   "outputs": [
    {
     "name": "stdout",
     "output_type": "stream",
     "text": [
      "0           0.0\n",
      "1           0.0\n",
      "2           1.0\n",
      "3           0.0\n",
      "4           3.0\n",
      "         ...   \n",
      "562    254981.0\n",
      "563     44082.0\n",
      "564     24234.0\n",
      "565    184346.0\n",
      "566    106871.0\n",
      "Name: new_cases, Length: 567, dtype: float64\n"
     ]
    }
   ],
   "source": [
    "import numpy as np\n",
    "import pandas as pd\n",
    "import matplotlib.pyplot as plt\n",
    "import os\n",
    "import glob\n",
    "import avar\n",
    "import seaborn as sns\n",
    "# %matplotlib notebook\n",
    "%matplotlib qt\n",
    "\n",
    "sns.set()\n",
    "plt.rcParams['mathtext.fontset'] = 'stix'\n",
    "plt.rcParams['font.family'] = 'STIXGeneral'\n",
    "\n",
    "path = os.getcwd() + \"\\\\coronavirus_data\"\n",
    "csv_files = glob.glob(os.path.join(path, \"*.csv\"))\n",
    "data_tot = pd.read_csv(csv_files[0])\n",
    "# data = data_tot.loc[data['location'] == 'United States']\n",
    "# data = data_tot.loc[data['location'] == 'Iran']\n",
    "data = data_tot.loc[data_tot['location'] == 'United States']\n",
    "data = data.fillna(0).reset_index()\n",
    "print(data['new_cases'])\n",
    "# data"
   ]
  },
  {
   "cell_type": "code",
   "execution_count": 8,
   "metadata": {},
   "outputs": [],
   "source": [
    "fig = plt.figure()\n",
    "fig.set_size_inches(6, 4)\n",
    "ax = fig.add_subplot(2, 1, 1)\n",
    "\n",
    "ax.plot(data['new_cases'])\n",
    "ax.set_xlabel('Time [day]')\n",
    "ax.set_ylabel('Daily new cases')\n",
    "\n",
    "\n",
    "ct = avar.CharacteristicScale()\n",
    "\n",
    "ax = fig.add_subplot(2, 1, 2)\n",
    "ax.plot(ct.allanvar(data['new_cases'].to_numpy()))\n",
    "ax.set_xscale('log')\n",
    "ax.set_yscale('log')\n",
    "ax.set_xlabel('Timescale [# of days]')\n",
    "ax.set_ylabel('AVAR $\\sigma_A^2$')\n",
    "fig.tight_layout()\n",
    "\n"
   ]
  },
  {
   "cell_type": "code",
   "execution_count": 11,
   "metadata": {},
   "outputs": [],
   "source": [
    "from scipy.ndimage import gaussian_filter1d\n",
    "\n",
    "fig, axs = plt.subplots(2)\n",
    "horizons = [50, 100, 200]\n",
    "# horizons = [50]\n",
    "for h in horizons:\n",
    "    char = avar.CharacteristicScale(horizon=h)\n",
    "    \n",
    "    M_c = []\n",
    "    for day, v in enumerate(data['new_cases'].to_numpy()):\n",
    "        char.memory.append(v)\n",
    "        if day > h:\n",
    "            davar = char.dynallanvar()\n",
    "            davar = gaussian_filter1d(davar,2)\n",
    "            m_c, min_value = char.find_charecteristic_scale(davar)\n",
    "            M_c.append(m_c)\n",
    "        else:\n",
    "            M_c.append(1)\n",
    "            \n",
    "    axs[1].plot(M_c, label='horizon = '+str(h),lw=1)\n",
    "    axs[1].set_xlabel('Time [day]')\n",
    "    axs[1].set_ylabel('Timescale [# of days]')\n",
    "    axs[1].set_yscale(\"log\")\n",
    "    axs[1].legend()\n",
    "axs[0].plot(data['new_cases'].to_numpy(),lw=1)\n",
    "axs[0].set_xlabel('Time [day]')\n",
    "axs[0].set_ylabel('Daily new cases')\n",
    "fig.tight_layout()\n",
    "plt.show()"
   ]
  }
 ],
 "metadata": {
  "kernelspec": {
   "display_name": "Python 3",
   "language": "python",
   "name": "python3"
  },
  "language_info": {
   "codemirror_mode": {
    "name": "ipython",
    "version": 3
   },
   "file_extension": ".py",
   "mimetype": "text/x-python",
   "name": "python",
   "nbconvert_exporter": "python",
   "pygments_lexer": "ipython3",
   "version": "3.8.8"
  }
 },
 "nbformat": 4,
 "nbformat_minor": 4
}
