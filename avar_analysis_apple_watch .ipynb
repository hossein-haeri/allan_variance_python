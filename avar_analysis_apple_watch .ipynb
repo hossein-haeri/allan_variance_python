{
 "cells": [
  {
   "cell_type": "code",
   "execution_count": 3,
   "metadata": {},
   "outputs": [
    {
     "name": "stdout",
     "output_type": "stream",
     "text": [
      "        time      x      y       z\n",
      "0      122.0    8.0  -32.0 -1040.0\n",
      "1      162.0    8.0  -24.0 -1032.0\n",
      "2      202.0   40.0  -40.0 -1056.0\n",
      "3      242.0    8.0  -40.0 -1024.0\n",
      "4      282.0    0.0  -32.0 -1032.0\n",
      "..       ...    ...    ...     ...\n",
      "495  19759.0 -120.0 -232.0  -992.0\n",
      "496  19799.0 -128.0 -240.0  -912.0\n",
      "497  19839.0 -128.0 -240.0 -1008.0\n",
      "498  19879.0 -128.0 -248.0  -952.0\n",
      "499  19919.0 -128.0 -256.0  -992.0\n",
      "\n",
      "[500 rows x 4 columns]\n"
     ]
    }
   ],
   "source": [
    "import numpy as np\n",
    "import pandas as pd\n",
    "import matplotlib.pyplot as plt\n",
    "import os\n",
    "import glob\n",
    "import avar\n",
    "# %matplotlib notebook\n",
    "%matplotlib qt\n",
    "import seaborn as sns\n",
    "sns.set()\n",
    "plt.rcParams['mathtext.fontset'] = 'stix'\n",
    "plt.rcParams['font.family'] = 'STIXGeneral'\n",
    "\n",
    "path = os.getcwd() + \"\\\\apple_watch_data\"\n",
    "csv_files = glob.glob(os.path.join(path, \"*.dat\"))\n",
    "data = pd.read_csv(csv_files[14], names=['time','x','y','z'], delim_whitespace=True)\n",
    "# data = pd.read_csv('apple_watch_data/1444079161.m_watch_acc.dat', names=['time','x','y','z'], delim_whitespace=True)\n",
    "print(data)"
   ]
  },
  {
   "cell_type": "markdown",
   "metadata": {},
   "source": [
    "# Allan Variance Analysis"
   ]
  },
  {
   "cell_type": "code",
   "execution_count": 6,
   "metadata": {},
   "outputs": [],
   "source": [
    "fig = plt.figure()\n",
    "fig.set_size_inches(6, 4)\n",
    "ax = fig.add_subplot(2, 1, 1)\n",
    "\n",
    "ax.plot(data['x'])\n",
    "ax.plot(data['y'])\n",
    "plt.plot(data['z'])\n",
    "ax.set_xlabel('Timestep [25 Hz]')\n",
    "ax.set_ylabel('acceleration [mG]')\n",
    "ax.legend(['x','y','z'])\n",
    "\n",
    "\n",
    "ct = avar.CharacteristicScale()\n",
    "\n",
    "ax = fig.add_subplot(2, 1, 2)\n",
    "ax.plot(ct.allanvar(data['x']))\n",
    "ax.plot(ct.allanvar(data['y']))\n",
    "plt.plot(ct.allanvar(data['z']))\n",
    "ax.set_xscale('log')\n",
    "ax.set_yscale('log')\n",
    "ax.set_xlabel('Timescale [# of samples]')\n",
    "ax.set_ylabel('$\\sigma_A^2$')\n",
    "ax.legend(['x','y'])\n",
    "fig.tight_layout()"
   ]
  },
  {
   "cell_type": "markdown",
   "metadata": {},
   "source": [
    "# Dynamic Allan Variance Analysis"
   ]
  },
  {
   "cell_type": "code",
   "execution_count": 4,
   "metadata": {
    "scrolled": false
   },
   "outputs": [],
   "source": [
    "from scipy.ndimage import gaussian_filter1d\n",
    "\n",
    "fig, axs = plt.subplots(2)\n",
    "horizons = [50, 100, 200]\n",
    "horizons = [150]\n",
    "\n",
    "for h in horizons:\n",
    "    char = avar.CharacteristicScale(horizon=h)\n",
    "    DAVAR = []\n",
    "    M_c = []\n",
    "    MIN_value = []\n",
    "    for day, v in enumerate(data['x']):\n",
    "        char.memory.append(v)\n",
    "        if day > h:\n",
    "            davar = np.array(char.dynallanvar())\n",
    "            davar = gaussian_filter1d(davar, 3)\n",
    "            m_c, min_value = char.find_charecteristic_scale(davar)\n",
    "            DAVAR.append(davar)\n",
    "            M_c.append(m_c)\n",
    "            MIN_value.append(min_value)\n",
    "        else:\n",
    "            DAVAR.append(np.zeros(len(char.taus)))\n",
    "            MIN_value.append(0)\n",
    "            M_c.append(1)\n",
    "    axs[1].plot(np.linspace(0,20,len(data['x'])),M_c, label='horizon = '+str(h))\n",
    "    axs[1].set_xlabel('Time [s]')\n",
    "    axs[1].set_ylabel('Timescale [# of samples]')\n",
    "    axs[1].set_yscale(\"log\")\n",
    "    axs[1].legend()\n",
    "axs[0].plot(np.linspace(0,20,len(data['x'])),data['x'])\n",
    "axs[0].set_xlabel('Time [s]')\n",
    "axs[0].set_ylabel('x acceleration [mG]')\n",
    "fig.tight_layout()\n",
    "plt.savefig('3d_davar.svg')\n",
    "plt.show()"
   ]
  },
  {
   "cell_type": "code",
   "execution_count": 39,
   "metadata": {},
   "outputs": [
    {
     "data": {
      "text/plain": [
       "500"
      ]
     },
     "execution_count": 39,
     "metadata": {},
     "output_type": "execute_result"
    }
   ],
   "source": []
  },
  {
   "cell_type": "code",
   "execution_count": 5,
   "metadata": {
    "scrolled": true
   },
   "outputs": [
    {
     "name": "stderr",
     "output_type": "stream",
     "text": [
      "<ipython-input-5-b0a16d9f3b20>:18: RuntimeWarning: divide by zero encountered in log\n",
      "  ax.plot_wireframe(np.log(timescales_mesh), times_mesh, np.log(DAVAR), rstride=2, cstride=100, lw=0.7)\n",
      "<ipython-input-5-b0a16d9f3b20>:19: RuntimeWarning: divide by zero encountered in log\n",
      "  ax.plot(np.log(M_c),times,np.log(MIN_value),color='red')\n",
      "C:\\Users\\Hossein_Haeri\\Anaconda3\\lib\\site-packages\\mpl_toolkits\\mplot3d\\proj3d.py:109: RuntimeWarning: invalid value encountered in true_divide\n",
      "  txs, tys, tzs = vecw[0]/w, vecw[1]/w, vecw[2]/w\n"
     ]
    }
   ],
   "source": [
    "from mpl_toolkits.mplot3d import axes3d\n",
    "import matplotlib.pyplot as plt\n",
    "import numpy as np\n",
    "# plt.rcParams['mathtext.fontset'] = 'stix'\n",
    "# plt.rcParams['font.family'] = 'STIXGeneral'\n",
    "# plt.rcParams['mathtext.fontset'] = 'custom'\n",
    "# plt.rcParams['mathtext.rm'] = 'Bitstream Vera Sans'\n",
    "# plt.rcParams['mathtext.it'] = 'Bitstream Vera Sans:italic'\n",
    "# plt.rcParams['mathtext.bf'] = 'Bitstream Vera Sans:bold'\n",
    "\n",
    "DAVAR = np.array(DAVAR)\n",
    "fig = plt.figure()\n",
    "ax = fig.add_subplot(111, projection='3d')\n",
    "\n",
    "timescales = np.linspace(1,DAVAR.shape[1],DAVAR.shape[1])\n",
    "times = np.linspace(1,20,DAVAR.shape[0])\n",
    "timescales_mesh, times_mesh = np.meshgrid(timescales,times)\n",
    "ax.plot_wireframe(np.log(timescales_mesh), times_mesh, np.log(DAVAR), rstride=2, cstride=100, lw=0.7)\n",
    "ax.plot(np.log(M_c),times,np.log(MIN_value),color='red')\n",
    "ax.set_xlabel('Timescale [log(# of samples)]')\n",
    "ax.set_ylabel('Time [s]')\n",
    "ax.set_zlabel('log($\\sigma_A^2$)')\n",
    "plt.savefig('3d_davar.svg')\n",
    "plt.show()"
   ]
  },
  {
   "cell_type": "code",
   "execution_count": 45,
   "metadata": {},
   "outputs": [
    {
     "name": "stdout",
     "output_type": "stream",
     "text": [
      "500 500 449\n"
     ]
    }
   ],
   "source": [
    "# DAVAR = np.array(DAVAR)\n",
    "# DAVAR.shape\n",
    "print(len(M_c),len(times),len(MIN_value))"
   ]
  },
  {
   "cell_type": "code",
   "execution_count": 101,
   "metadata": {},
   "outputs": [
    {
     "data": {
      "text/plain": [
       "Text(0.5, 0.92, 'ABC123 vs $\\\\mathrm{ABC123}^{123}$')"
      ]
     },
     "execution_count": 101,
     "metadata": {},
     "output_type": "execute_result"
    }
   ],
   "source": [
    "\n"
   ]
  }
 ],
 "metadata": {
  "kernelspec": {
   "display_name": "Python 3",
   "language": "python",
   "name": "python3"
  },
  "language_info": {
   "codemirror_mode": {
    "name": "ipython",
    "version": 3
   },
   "file_extension": ".py",
   "mimetype": "text/x-python",
   "name": "python",
   "nbconvert_exporter": "python",
   "pygments_lexer": "ipython3",
   "version": "3.8.5"
  }
 },
 "nbformat": 4,
 "nbformat_minor": 4
}
